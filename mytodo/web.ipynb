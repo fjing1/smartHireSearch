{
 "cells": [
  {
   "cell_type": "code",
   "execution_count": 1,
   "id": "0bd4244b-e619-46b9-a11c-7c18abd654f8",
   "metadata": {},
   "outputs": [
    {
     "name": "stdout",
     "output_type": "stream",
     "text": [
      "Requirement already satisfied: streamlit in /Users/felix_productive/jobSearch/braveCareer/swift_demo/chalice-env/lib/python3.9/site-packages (1.32.2)\n",
      "Requirement already satisfied: altair<6,>=4.0 in /Users/felix_productive/jobSearch/braveCareer/swift_demo/chalice-env/lib/python3.9/site-packages (from streamlit) (5.2.0)\n",
      "Requirement already satisfied: blinker<2,>=1.0.0 in /Users/felix_productive/jobSearch/braveCareer/swift_demo/chalice-env/lib/python3.9/site-packages (from streamlit) (1.7.0)\n",
      "Requirement already satisfied: cachetools<6,>=4.0 in /Users/felix_productive/jobSearch/braveCareer/swift_demo/chalice-env/lib/python3.9/site-packages (from streamlit) (5.3.3)\n",
      "Requirement already satisfied: click<9,>=7.0 in /Users/felix_productive/jobSearch/braveCareer/swift_demo/chalice-env/lib/python3.9/site-packages (from streamlit) (8.1.7)\n",
      "Requirement already satisfied: numpy<2,>=1.19.3 in /Users/felix_productive/jobSearch/braveCareer/swift_demo/chalice-env/lib/python3.9/site-packages (from streamlit) (1.26.4)\n",
      "Requirement already satisfied: packaging<24,>=16.8 in /Users/felix_productive/jobSearch/braveCareer/swift_demo/chalice-env/lib/python3.9/site-packages (from streamlit) (23.2)\n",
      "Requirement already satisfied: pandas<3,>=1.3.0 in /Users/felix_productive/jobSearch/braveCareer/swift_demo/chalice-env/lib/python3.9/site-packages (from streamlit) (2.2.0)\n",
      "Requirement already satisfied: pillow<11,>=7.1.0 in /Users/felix_productive/jobSearch/braveCareer/swift_demo/chalice-env/lib/python3.9/site-packages (from streamlit) (10.2.0)\n",
      "Requirement already satisfied: protobuf<5,>=3.20 in /Users/felix_productive/jobSearch/braveCareer/swift_demo/chalice-env/lib/python3.9/site-packages (from streamlit) (4.25.3)\n",
      "Requirement already satisfied: pyarrow>=7.0 in /Users/felix_productive/jobSearch/braveCareer/swift_demo/chalice-env/lib/python3.9/site-packages (from streamlit) (15.0.1)\n",
      "Requirement already satisfied: requests<3,>=2.27 in /Users/felix_productive/jobSearch/braveCareer/swift_demo/chalice-env/lib/python3.9/site-packages (from streamlit) (2.31.0)\n",
      "Requirement already satisfied: rich<14,>=10.14.0 in /Users/felix_productive/jobSearch/braveCareer/swift_demo/chalice-env/lib/python3.9/site-packages (from streamlit) (13.7.0)\n",
      "Requirement already satisfied: tenacity<9,>=8.1.0 in /Users/felix_productive/jobSearch/braveCareer/swift_demo/chalice-env/lib/python3.9/site-packages (from streamlit) (8.2.3)\n",
      "Requirement already satisfied: toml<2,>=0.10.1 in /Users/felix_productive/jobSearch/braveCareer/swift_demo/chalice-env/lib/python3.9/site-packages (from streamlit) (0.10.2)\n",
      "Requirement already satisfied: typing-extensions<5,>=4.3.0 in /Users/felix_productive/jobSearch/braveCareer/swift_demo/chalice-env/lib/python3.9/site-packages (from streamlit) (4.9.0)\n",
      "Requirement already satisfied: gitpython!=3.1.19,<4,>=3.0.7 in /Users/felix_productive/jobSearch/braveCareer/swift_demo/chalice-env/lib/python3.9/site-packages (from streamlit) (3.1.42)\n",
      "Requirement already satisfied: pydeck<1,>=0.8.0b4 in /Users/felix_productive/jobSearch/braveCareer/swift_demo/chalice-env/lib/python3.9/site-packages (from streamlit) (0.8.1b0)\n",
      "Requirement already satisfied: tornado<7,>=6.0.3 in /Users/felix_productive/jobSearch/braveCareer/swift_demo/chalice-env/lib/python3.9/site-packages (from streamlit) (6.4)\n",
      "Requirement already satisfied: jinja2 in /Users/felix_productive/jobSearch/braveCareer/swift_demo/chalice-env/lib/python3.9/site-packages (from altair<6,>=4.0->streamlit) (3.1.3)\n",
      "Requirement already satisfied: jsonschema>=3.0 in /Users/felix_productive/jobSearch/braveCareer/swift_demo/chalice-env/lib/python3.9/site-packages (from altair<6,>=4.0->streamlit) (4.21.1)\n",
      "Requirement already satisfied: toolz in /Users/felix_productive/jobSearch/braveCareer/swift_demo/chalice-env/lib/python3.9/site-packages (from altair<6,>=4.0->streamlit) (0.12.1)\n",
      "Requirement already satisfied: gitdb<5,>=4.0.1 in /Users/felix_productive/jobSearch/braveCareer/swift_demo/chalice-env/lib/python3.9/site-packages (from gitpython!=3.1.19,<4,>=3.0.7->streamlit) (4.0.11)\n",
      "Requirement already satisfied: python-dateutil>=2.8.2 in /Users/felix_productive/jobSearch/braveCareer/swift_demo/chalice-env/lib/python3.9/site-packages (from pandas<3,>=1.3.0->streamlit) (2.8.2)\n",
      "Requirement already satisfied: pytz>=2020.1 in /Users/felix_productive/jobSearch/braveCareer/swift_demo/chalice-env/lib/python3.9/site-packages (from pandas<3,>=1.3.0->streamlit) (2024.1)\n",
      "Requirement already satisfied: tzdata>=2022.7 in /Users/felix_productive/jobSearch/braveCareer/swift_demo/chalice-env/lib/python3.9/site-packages (from pandas<3,>=1.3.0->streamlit) (2024.1)\n",
      "Requirement already satisfied: charset-normalizer<4,>=2 in /Users/felix_productive/jobSearch/braveCareer/swift_demo/chalice-env/lib/python3.9/site-packages (from requests<3,>=2.27->streamlit) (3.3.2)\n",
      "Requirement already satisfied: idna<4,>=2.5 in /Users/felix_productive/jobSearch/braveCareer/swift_demo/chalice-env/lib/python3.9/site-packages (from requests<3,>=2.27->streamlit) (3.6)\n",
      "Requirement already satisfied: urllib3<3,>=1.21.1 in /Users/felix_productive/jobSearch/braveCareer/swift_demo/chalice-env/lib/python3.9/site-packages (from requests<3,>=2.27->streamlit) (2.2.1)\n",
      "Requirement already satisfied: certifi>=2017.4.17 in /Users/felix_productive/jobSearch/braveCareer/swift_demo/chalice-env/lib/python3.9/site-packages (from requests<3,>=2.27->streamlit) (2023.11.17)\n",
      "Requirement already satisfied: markdown-it-py>=2.2.0 in /Users/felix_productive/jobSearch/braveCareer/swift_demo/chalice-env/lib/python3.9/site-packages (from rich<14,>=10.14.0->streamlit) (3.0.0)\n",
      "Requirement already satisfied: pygments<3.0.0,>=2.13.0 in /Users/felix_productive/jobSearch/braveCareer/swift_demo/chalice-env/lib/python3.9/site-packages (from rich<14,>=10.14.0->streamlit) (2.17.2)\n",
      "Requirement already satisfied: smmap<6,>=3.0.1 in /Users/felix_productive/jobSearch/braveCareer/swift_demo/chalice-env/lib/python3.9/site-packages (from gitdb<5,>=4.0.1->gitpython!=3.1.19,<4,>=3.0.7->streamlit) (5.0.1)\n",
      "Requirement already satisfied: MarkupSafe>=2.0 in /Users/felix_productive/jobSearch/braveCareer/swift_demo/chalice-env/lib/python3.9/site-packages (from jinja2->altair<6,>=4.0->streamlit) (2.1.5)\n",
      "Requirement already satisfied: attrs>=22.2.0 in /Users/felix_productive/jobSearch/braveCareer/swift_demo/chalice-env/lib/python3.9/site-packages (from jsonschema>=3.0->altair<6,>=4.0->streamlit) (23.2.0)\n",
      "Requirement already satisfied: jsonschema-specifications>=2023.03.6 in /Users/felix_productive/jobSearch/braveCareer/swift_demo/chalice-env/lib/python3.9/site-packages (from jsonschema>=3.0->altair<6,>=4.0->streamlit) (2023.12.1)\n",
      "Requirement already satisfied: referencing>=0.28.4 in /Users/felix_productive/jobSearch/braveCareer/swift_demo/chalice-env/lib/python3.9/site-packages (from jsonschema>=3.0->altair<6,>=4.0->streamlit) (0.33.0)\n",
      "Requirement already satisfied: rpds-py>=0.7.1 in /Users/felix_productive/jobSearch/braveCareer/swift_demo/chalice-env/lib/python3.9/site-packages (from jsonschema>=3.0->altair<6,>=4.0->streamlit) (0.18.0)\n",
      "Requirement already satisfied: mdurl~=0.1 in /Users/felix_productive/jobSearch/braveCareer/swift_demo/chalice-env/lib/python3.9/site-packages (from markdown-it-py>=2.2.0->rich<14,>=10.14.0->streamlit) (0.1.2)\n",
      "Requirement already satisfied: six>=1.5 in /Users/felix_productive/jobSearch/braveCareer/swift_demo/chalice-env/lib/python3.9/site-packages (from python-dateutil>=2.8.2->pandas<3,>=1.3.0->streamlit) (1.16.0)\n"
     ]
    }
   ],
   "source": [
    "!pip install streamlit"
   ]
  },
  {
   "cell_type": "code",
   "execution_count": 11,
   "id": "d893edee-a0e5-484a-ba53-b0081b4484f7",
   "metadata": {},
   "outputs": [],
   "source": [
    "# import \n",
    "import boto3\n",
    "import streamlit as st\n",
    "import os"
   ]
  },
  {
   "cell_type": "code",
   "execution_count": 3,
   "id": "6d112553-6d0e-425a-ac7e-d17926341621",
   "metadata": {},
   "outputs": [],
   "source": [
    "s3 = boto3.client(\"s3\")"
   ]
  },
  {
   "cell_type": "code",
   "execution_count": null,
   "id": "75c9a67a-fead-4912-8c3d-b1248ef705ca",
   "metadata": {},
   "outputs": [],
   "source": []
  },
  {
   "cell_type": "code",
   "execution_count": 4,
   "id": "9ce3c572-62fc-4597-9367-7c398e803622",
   "metadata": {},
   "outputs": [
    {
     "name": "stderr",
     "output_type": "stream",
     "text": [
      "2024-03-16 15:00:08.321 \n",
      "  \u001b[33m\u001b[1mWarning:\u001b[0m to view this Streamlit app on a browser, run it with the following\n",
      "  command:\n",
      "\n",
      "    streamlit run /Users/felix_productive/jobSearch/braveCareer/swift_demo/chalice-env/lib/python3.9/site-packages/ipykernel_launcher.py [ARGUMENTS]\n"
     ]
    }
   ],
   "source": [
    "# line 31\n",
    "resume = st.file_uploader(\"Uploading your resume\", type=[\"pdf\", \"doc\",\"docs\"])"
   ]
  },
  {
   "cell_type": "code",
   "execution_count": 5,
   "id": "bb167985-590c-4c95-8fa1-0f19ef918c31",
   "metadata": {},
   "outputs": [],
   "source": [
    "def upload_to_s3(buck_name, file, key):\n",
    "    try:\n",
    "        s3.upload_fileobj(file, buck_name, key)\n",
    "        return True\n",
    "    except Exception as e:\n",
    "        st.error(f\"Error uploading to s3:{e}\")\n",
    "        return False"
   ]
  },
  {
   "cell_type": "code",
   "execution_count": 12,
   "id": "206bcb39-f640-46c8-9339-0146218fb660",
   "metadata": {},
   "outputs": [],
   "source": [
    "directory = './data/resumes/'\n",
    "for filename in os.listdir(directory):\n",
    "    if filename.endswith(\".pdf\"):  # if you only want to upload PDF files\n",
    "        with open(os.path.join(directory, filename), 'rb') as file:\n",
    "            upload_to_s3('swift-hire-felix-kelly-us-west-2', file, filename)\n",
    "\n"
   ]
  },
  {
   "cell_type": "code",
   "execution_count": null,
   "id": "1aaef565-b4bb-4d3f-a3b4-f49c3f0811a6",
   "metadata": {},
   "outputs": [],
   "source": [
    "def save_user_to_es(name, email, preference, resume_s3_key):\n",
    "    doc = {\n",
    "        \"name\": name,\n",
    "        \"email\": email, \n",
    "        \"preference\": preference,\n",
    "        \"resume_s3_key\": resume_s3_key\n",
    "    }\n",
    "\n",
    "    _ = es_client.index(index=ES_USER_INDEX, body = doc)\n",
    "    return True"
   ]
  },
  {
   "cell_type": "code",
   "execution_count": null,
   "id": "6c15db86-4442-4cae-b6a0-017584e48299",
   "metadata": {},
   "outputs": [],
   "source": [
    "# Step 1 User information collectand summarize resume\n",
    "if st.button(\"submit\"):"
   ]
  }
 ],
 "metadata": {
  "kernelspec": {
   "display_name": "Python 3 (ipykernel)",
   "language": "python",
   "name": "python3"
  },
  "language_info": {
   "codemirror_mode": {
    "name": "ipython",
    "version": 3
   },
   "file_extension": ".py",
   "mimetype": "text/x-python",
   "name": "python",
   "nbconvert_exporter": "python",
   "pygments_lexer": "ipython3",
   "version": "3.9.18"
  }
 },
 "nbformat": 4,
 "nbformat_minor": 5
}
