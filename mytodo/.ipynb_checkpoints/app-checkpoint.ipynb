{
 "cells": [
  {
   "cell_type": "code",
   "execution_count": 3,
   "id": "6df157fa-fff8-4439-bca7-06bf1f02c2f3",
   "metadata": {},
   "outputs": [],
   "source": [
    "import os\n",
    "import boto3\n",
    "from chalice import Chalice, AuthResponse, Rate\n",
    "from chalicelib import auth, db\n",
    "import pandas as pd\n",
    "from apify_client import ApifyClient\n",
    "from datetime import datetime\n",
    "from opensearchpy import OpenSearch, helpers\n"
   ]
  },
  {
   "cell_type": "code",
   "execution_count": 4,
   "id": "8f652978-7a78-4ecd-a0f8-554c7ad28f2a",
   "metadata": {},
   "outputs": [],
   "source": [
    "app = Chalice(app_name='mytodo')\n",
    "app.debug = True\n",
    "_DB = None\n",
    "_USER_DB = None\n",
    "apify_client = ApifyClient('apify_api_IY3hoxDRTo2d2iF7NoZXPIOtFlDb8J1cSkPQ')\n",
    "\n",
    "# Define locations as a global variable\n",
    "locations = {\"w+CAIQICIHVG9yb250bw==\": \"Toronto\"}\n",
    "\n",
    "def get_job_data(uule, jt):\n",
    "    run_input = {\n",
    "        \"csvFriendlyOutput\": True,\n",
    "        \"includeUnfilteredResults\": False,\n",
    "        \"maxConcurrency\": 10,\n",
    "        \"maxPagesPerQuery\": 3,\n",
    "        \"queries\": f\"https://www.google.com/search?ibp=htl;jobs&q={jt}&uule={uule}\",\n",
    "        \"saveHtml\": False,\n",
    "        \"saveHtmlToKeyValueStore\": False,\n",
    "    }\n",
    "\n",
    "    actor_call = apify_client.actor('dan.scraper/google-jobs-scraper').call(run_input=run_input)\n",
    "    dataset_items = apify_client.dataset(actor_call['defaultDatasetId']).list_items().items\n",
    "\n",
    "    d = pd.DataFrame(dataset_items)\n",
    "    d[\"query\"] = jt\n",
    "    d[\"location\"] = locations[uule]\n",
    "    d[\"run_time\"] = str(datetime.now())\n",
    "\n",
    "    return d\n",
    "\n",
    "def save_to_es(df):\n",
    "    host = 'search-swift-hire-dev-jfmldmym4cfbiwdhwmtuqq6ihy.us-west-2.es.amazonaws.com'\n",
    "    port = 443\n",
    "    auth = ('swift', 'Hire123!') # For testing only. Don't store credentials in code.\n",
    "\n",
    "    client = OpenSearch(\n",
    "        hosts = [{'host': host, 'port': port}],\n",
    "        http_compress = True, # enables gzip compression for request bodies\n",
    "        http_auth = auth,\n",
    "        use_ssl = True,\n",
    "        ssl_assert_hostname = False,\n",
    "        ssl_show_warn = False,\n",
    "    )\n",
    "\n",
    "    index_name = \"swift_dev_felix_kelly\"\n",
    "\n",
    "    if not client.indices.exists(index_name):\n",
    "        client.indices.create(index=index_name)\n",
    "\n",
    "    def doc_generator(df):\n",
    "        for i, row in df.iterrows():\n",
    "            doc = {\n",
    "                \"_index\": index_name,\n",
    "                \"_source\": row.to_dict(),\n",
    "            }\n",
    "            yield doc\n",
    "\n",
    "    helpers.bulk(client, doc_generator(df))\n",
    "\n",
    "    print(\"Data Saved to ES\")"
   ]
  },
  {
   "cell_type": "code",
   "execution_count": 5,
   "id": "8ae0456a-13e7-4daa-b8cd-1dc4b95fb411",
   "metadata": {},
   "outputs": [],
   "source": [
    "#@app.schedule(Rate(24, unit=Rate.HOURS))\n",
    "def every_24_hours(event):\n",
    "    position_df = pd.DataFrame()\n",
    "    job_titles = [\"Junior Software Engineer\"] # adding more titles to here [\"title\",\"title1\"]\n",
    "    #locations = {\"w+CAIQICIHVG9yb250bw==\": \"Toronto\"}\n",
    "\n",
    "    for uule in locations:\n",
    "        print(locations[uule])\n",
    "        for jt in job_titles:\n",
    "            print(jt)\n",
    "            d = get_job_data(uule, jt)\n",
    "            position_df = pd.concat([position_df, d])\n",
    "\n",
    "\n",
    "        print(\"=\"*30)\n",
    "\n",
    "    position_df.drop(columns='thumbnail', inplace=True)\n",
    "    print(\"start the openserach part\")\n",
    "    save_to_es(position_df)"
   ]
  },
  {
   "cell_type": "code",
   "execution_count": 6,
   "id": "52d73363-ecc7-49bd-803e-1d1fb41eefc7",
   "metadata": {},
   "outputs": [
    {
     "name": "stdout",
     "output_type": "stream",
     "text": [
      "end\n"
     ]
    }
   ],
   "source": [
    "print(\"end\")"
   ]
  },
  {
   "cell_type": "code",
   "execution_count": null,
   "id": "56538e49-5e02-44c8-9e51-4f105a9ba838",
   "metadata": {},
   "outputs": [],
   "source": []
  }
 ],
 "metadata": {
  "kernelspec": {
   "display_name": "Python 3 (ipykernel)",
   "language": "python",
   "name": "python3"
  },
  "language_info": {
   "codemirror_mode": {
    "name": "ipython",
    "version": 3
   },
   "file_extension": ".py",
   "mimetype": "text/x-python",
   "name": "python",
   "nbconvert_exporter": "python",
   "pygments_lexer": "ipython3",
   "version": "3.9.18"
  }
 },
 "nbformat": 4,
 "nbformat_minor": 5
}
