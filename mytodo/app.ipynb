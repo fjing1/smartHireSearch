{
 "cells": [
  {
   "cell_type": "code",
   "execution_count": 3,
   "id": "8f652978-7a78-4ecd-a0f8-554c7ad28f2a",
   "metadata": {},
   "outputs": [],
   "source": [
    "import os\n",
    "import boto3\n",
    "from chalice import Chalice, AuthResponse, Rate\n",
    "from chalicelib import auth, db\n",
    "\n",
    "# following is from the python notebook\n",
    "import pandas as pd\n",
    "from apify_client import ApifyClient\n",
    "from datetime import datetime\n",
    "from opensearchpy import OpenSearch, helpers\n",
    "\n",
    "app = Chalice(app_name='mytodo')\n",
    "app.debug = True\n",
    "_DB = None\n",
    "_USER_DB = None\n",
    "apify_client = ApifyClient('apify_api_IY3hoxDRTo2d2iF7NoZXPIOtFlDb8J1cSkPQ') "
   ]
  },
  {
   "cell_type": "code",
   "execution_count": 2,
   "id": "7c63ca69-381d-4cef-b5d1-366e48701212",
   "metadata": {},
   "outputs": [
    {
     "name": "stdout",
     "output_type": "stream",
     "text": [
      "Requirement already satisfied: pandas in /Users/felix_productive/jobSearch/braveCareer/swift_demo/chalice-env/lib/python3.9/site-packages (2.2.0)\n",
      "Requirement already satisfied: numpy<2,>=1.22.4 in /Users/felix_productive/jobSearch/braveCareer/swift_demo/chalice-env/lib/python3.9/site-packages (from pandas) (1.26.4)\n",
      "Requirement already satisfied: python-dateutil>=2.8.2 in /Users/felix_productive/jobSearch/braveCareer/swift_demo/chalice-env/lib/python3.9/site-packages (from pandas) (2.8.2)\n",
      "Requirement already satisfied: pytz>=2020.1 in /Users/felix_productive/jobSearch/braveCareer/swift_demo/chalice-env/lib/python3.9/site-packages (from pandas) (2024.1)\n",
      "Requirement already satisfied: tzdata>=2022.7 in /Users/felix_productive/jobSearch/braveCareer/swift_demo/chalice-env/lib/python3.9/site-packages (from pandas) (2024.1)\n",
      "Requirement already satisfied: six>=1.5 in /Users/felix_productive/jobSearch/braveCareer/swift_demo/chalice-env/lib/python3.9/site-packages (from python-dateutil>=2.8.2->pandas) (1.16.0)\n"
     ]
    }
   ],
   "source": [
    "!pip install pandas"
   ]
  },
  {
   "cell_type": "code",
   "execution_count": 4,
   "id": "6df157fa-fff8-4439-bca7-06bf1f02c2f3",
   "metadata": {},
   "outputs": [],
   "source": [
    "#@app.schedule(Rate(24, unit=Rate.HOURS))\n",
    "#def every_day(event):# this will be attached to lambda function\n",
    "@app.schedule(Rate(24, unit=Rate.HOURS))\n",
    "def every_24_hour(event): # event\n",
    "    print('updated 2 !!!!!!')\n",
    "    # Start an actor and wait for it to finish\n",
    "    position_df = pd.DataFrame()\n",
    "    # job_titles_old = [\"Data Analyst\", \"Data Engineer\", \"Data Scientist\", \"Software Developer\", \"Product Manager\", \"Digital Marketer\"]\n",
    "    job_titles = [ \"Software Engineer\",  \"Data Engineer\", \"Data Scientist\"] #  \n",
    "    locations = {\"w+CAIQICIHVG9yb250bw==\": \"Toronto\", \"w+CAIQICIJVmFuY291dmVy\": \"Vancourver\", \"w+CAIQICIITW9udHJlYWw=\": \"Montreal\"}\n",
    "\n",
    "    for uule in locations:\n",
    "        print(locations[uule])\n",
    "        for jt in job_titles:\n",
    "            print(jt)\n",
    "            run_input = {\n",
    "                \"csvFriendlyOutput\": True,\n",
    "                \"includeUnfilteredResults\": False,\n",
    "                \"maxConcurrency\": 10,\n",
    "                \"maxPagesPerQuery\": 2,\n",
    "                \"queries\": f\"https://www.google.com/search?ibp=htl;jobs&q={jt}&uule={uule}\",\n",
    "                \"saveHtml\": False,\n",
    "                \"saveHtmlToKeyValueStore\": False,\n",
    "            }\n",
    "\n",
    "            actor_call = apify_client.actor(\n",
    "                'dan.scraper/google-jobs-scraper').call(run_input=run_input)\n",
    "\n",
    "            dataset_items = apify_client.dataset(\n",
    "                actor_call['defaultDatasetId']).list_items().items\n",
    "\n",
    "            d = pd.DataFrame(dataset_items)\n",
    "            d[\"query\"] = jt\n",
    "            d[\"location\"] = locations[uule]\n",
    "            d[\"run_time\"] = str(datetime.now())\n",
    "\n",
    "            position_df = pd.concat([position_df, d])\n",
    "\n",
    "        print(\"=\"*30)\n",
    "\n",
    "    position_df.drop(columns='thumbnail', inplace=True)\n",
    "\n",
    "    host = 'search-swift-hire-dev-jfmldmym4cfbiwdhwmtuqq6ihy.us-west-2.es.amazonaws.com'\n",
    "    port = 443\n",
    "    auth = ('swift', 'Hire123!') # For testing only. Don't store credentials in code.\n",
    "\n",
    "    print('connect to OpenSearch client: ')\n",
    "    client = OpenSearch(\n",
    "        hosts = [{'host': host, 'port': port}],\n",
    "        http_compress = True, # enables gzip compression for request bodies\n",
    "        http_auth = auth,\n",
    "        use_ssl = True,\n",
    "        ssl_assert_hostname = False,\n",
    "        ssl_show_warn = False,\n",
    "    )\n",
    "    print('index swift_dev_felix_kelly ')\n",
    "    index_name = \"swift_dev_felix_kelly\"\n",
    "\n",
    "    if not client.indices.exists(index_name):\n",
    "        client.indices.create(index=index_name)\n",
    "    def doc_generator(df):\n",
    "        for i, row in df.iterrows():\n",
    "            doc = {\n",
    "                \"_index\": index_name,\n",
    "                \"_source\": row.to_dict(),\n",
    "            }\n",
    "            yield doc\n",
    "    helpers.bulk(client, doc_generator(position_df))\n",
    "\n",
    "    print(\"Data Saved to ES. Done.\") "
   ]
  },
  {
   "cell_type": "code",
   "execution_count": 12,
   "id": "8ae0456a-13e7-4daa-b8cd-1dc4b95fb411",
   "metadata": {},
   "outputs": [
    {
     "name": "stdout",
     "output_type": "stream",
     "text": [
      "updated 2 !!!!!!\n",
      "Toronto\n",
      "Software Engineer\n",
      "Data Engineer\n",
      "Data Scientist\n",
      "==============================\n",
      "Vancourver\n",
      "Software Engineer\n",
      "Data Engineer\n",
      "Data Scientist\n",
      "==============================\n",
      "Montreal\n",
      "Software Engineer\n",
      "Data Engineer\n",
      "Data Scientist\n",
      "==============================\n",
      "connect to OpenSearch client: \n",
      "index swift_dev_felix_kelly \n",
      "Data Saved to ES. Done.\n"
     ]
    }
   ],
   "source": [
    "#every_24_hour()"
   ]
  },
  {
   "cell_type": "code",
   "execution_count": 6,
   "id": "52d73363-ecc7-49bd-803e-1d1fb41eefc7",
   "metadata": {},
   "outputs": [
    {
     "name": "stdout",
     "output_type": "stream",
     "text": [
      "end\n"
     ]
    }
   ],
   "source": [
    "print(\"end\")"
   ]
  },
  {
   "cell_type": "code",
   "execution_count": null,
   "id": "56538e49-5e02-44c8-9e51-4f105a9ba838",
   "metadata": {},
   "outputs": [],
   "source": []
  }
 ],
 "metadata": {
  "kernelspec": {
   "display_name": "Python 3 (ipykernel)",
   "language": "python",
   "name": "python3"
  },
  "language_info": {
   "codemirror_mode": {
    "name": "ipython",
    "version": 3
   },
   "file_extension": ".py",
   "mimetype": "text/x-python",
   "name": "python",
   "nbconvert_exporter": "python",
   "pygments_lexer": "ipython3",
   "version": "3.9.18"
  }
 },
 "nbformat": 4,
 "nbformat_minor": 5
}
